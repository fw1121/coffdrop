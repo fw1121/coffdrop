{
 "cells": [
  {
   "cell_type": "markdown",
   "metadata": {},
   "source": [
    "# This notebook will compute the bayes factors of mutual exclusivity and co-occurrence under the model:\n",
    "\n",
    "\\begin{equation}\n",
    "\\begin{split}\n",
    "K = \\frac{P(D | M_{A,B})}{P(D) | H_0} = \\frac{\\int \\int \\int P(\\theta_A, \\theta_B, \\theta_{A,B}^M | M_{A,B}) P(D| \\theta_A, \\theta_B, \\theta_{A,B}^M , M_{A,B}) d\\theta_{A,B}^M d\\theta_A d\\theta_b }{\\int \\int \\int P(\\theta_A, \\theta_B, \\theta_{A,B}^M | H_0) P(D| \\theta_A, \\theta_B, \\theta_{A,B}^M , H_0) d\\theta_{A,B}^M d\\theta_A d\\theta_b }\n",
    "\\end{split}\n",
    "\\end{equation}\n",
    "\n",
    "where we assume uniform priors on $\\theta_A $ and $\\theta_B$:\n",
    "$ P(\\theta_A \\in dp | M_{A,B}) = dp$ (since  $\\int_0^1 P(\\theta_A \\in dp | M_{A,B}) dp = 1$)\n",
    "\n",
    "and\n",
    "$ P(\\theta_B \\in dp | M_{A,B}) = dp$ (since  $\\int_0^1 P(\\theta_B \\in dp | M_{A,B}) dp = 1$)\n",
    "\n",
    "Then, because under $M_{A,B}$, $\\theta_{A,B}^M$ must be greater than the value inferred by independence:\n",
    "\n",
    "\\[ P(\\theta_{A,B}^M \\in dp | \\theta_A, \\theta_B, M_{A,B}) = \\begin{cases}\n",
    "0 & p \\leq \\theta_A (1 - \\theta_B) + \\theta_B (1 - \\theta_A) \\\\\n",
    "\\frac{dp}{\\int_{\\theta_A (1 - \\theta_B) + \\theta_B (1 - \\theta_A)}^1 dp^*} & p > \\theta_A (1 - \\theta_B) + \\theta_B (1 - \\theta_A)\\\\\n",
    "\\end{cases}\n",
    "\\]\n",
    "\n",
    "Now, the likelihoods:\n",
    "\n",
    "\\begin{equation}\n",
    "P(D | \\theta_A, \\theta_B, \\theta_{A,B}^M, M_{A,B}) = P(X_A | \\theta_A, M_{A,B}) P(X_B | \\theta_B, M_{A,B}) P(X_{A,B}^M | \\theta_A, \\theta_B, \\theta_{A,B}^M, M_{A,B})\n",
    "\\end{equation}\n",
    "\n",
    "All the $X_E \\sim Binom(\\theta_E)$ for event $E$.\n",
    "\n",
    "\n",
    "So, $P(X_A | \\theta_A, M_{A,B}) = {n \\choose X_A} (\\theta_A)^{X_A} (1 - \\theta_A)^{n - X_A}$\n",
    "\n",
    "$P(X_B | \\theta_B, M_{A,B}) = {n \\choose X_B} (\\theta_B)^{X_B} (1 - \\theta_B)^{n - X_B}$\n",
    "\n",
    "$P(X_{A,B}^M | \\theta_{A,B}^M, M_{A,B}) = {n \\choose X_{A,B}^M} (\\theta_{A,B}^M)^{X_{A,B}^M} (1 - \\theta_{A,B}^M)^{n - X_{A,B}^M}$"
   ]
  },
  {
   "cell_type": "code",
   "execution_count": 20,
   "metadata": {
    "collapsed": false
   },
   "outputs": [],
   "source": [
    "from scipy import special\n",
    "# Let's calculate the top integral\n",
    "\n",
    "\n",
    "\n",
    "n = 100\n",
    "x_A = 20\n",
    "x_B = 30\n",
    "x_AB = 15\n",
    "\n",
    "def make_model(n, x_A, x_B, x_AB):\n",
    "    theta_A = pymc.DiscreteUniform('theta_A', lower=0, upper=1)\n",
    "    theta_B = pymc.DiscreteUniform('theta_B', lower=0, upper=1)\n",
    "    \n",
    "    @pymc.stochastic(dtype=float)\n",
    "    def theta_AB(value = 0.3, theta_A=0.1, theta_B=0.2):\n",
    "        \"\"\"Return log-likelihood of it\"\"\"\n",
    "        if value < theta_A * theta_B or value > 1:\n",
    "            return -np.inf\n",
    "        else:\n",
    "            return -np.log(1 - theta_B*theta_A)\n",
    "\n",
    "    \n",
    "    @pymc.deterministic\n",
    "    def likelihood_A(theta=theta_A, n=n, x=x_A):\n",
    "        return special.binom(n, x) * np.power(theta,x) * np.power((1- theta), n-x)\n",
    "\n",
    "    @pymc.deterministic\n",
    "    def likelihood_B(theta=theta_B, n=n, x=x_B):\n",
    "        return special.binom(n, x) * np.power(theta,x) * np.power((1- theta), n-x)\n",
    "\n",
    "    @pymc.deterministic\n",
    "    def likelihood_AB(theta=theta_AB, n=n, x=x_AB):\n",
    "        return special.binom(n, x) * np.power(theta,x) * np.power((1- theta), n-x)\n",
    "\n",
    "# do you have to say the likelihood is a different variable?\n",
    "# It's conditional. Has it been observed?\n",
    "# partially, not completely. still needs theta_A, theta_B"
   ]
  },
  {
   "cell_type": "code",
   "execution_count": 28,
   "metadata": {
    "collapsed": false
   },
   "outputs": [
    {
     "name": "stdout",
     "output_type": "stream",
     "text": [
      " [-----------------100%-----------------] 200 of 200 complete in 0.0 sec<pymc.MCMC.MCMC object at 0x10aabbb10>\n"
     ]
    },
    {
     "ename": "KeyError",
     "evalue": "'x_A'",
     "output_type": "error",
     "traceback": [
      "\u001b[0;31m---------------------------------------------------------------------------\u001b[0m",
      "\u001b[0;31mKeyError\u001b[0m                                  Traceback (most recent call last)",
      "\u001b[0;32m<ipython-input-28-74fd808d90e5>\u001b[0m in \u001b[0;36m<module>\u001b[0;34m()\u001b[0m\n\u001b[1;32m      5\u001b[0m \u001b[0;32mprint\u001b[0m \u001b[0mM\u001b[0m\u001b[0;34m.\u001b[0m\u001b[0mvalue\u001b[0m\u001b[0;34m\u001b[0m\u001b[0m\n\u001b[1;32m      6\u001b[0m \u001b[0mplt\u001b[0m\u001b[0;34m.\u001b[0m\u001b[0mhist\u001b[0m\u001b[0;34m(\u001b[0m\u001b[0mM\u001b[0m\u001b[0;34m.\u001b[0m\u001b[0mtrace\u001b[0m\u001b[0;34m(\u001b[0m\u001b[0;34m'x'\u001b[0m\u001b[0;34m)\u001b[0m\u001b[0;34m[\u001b[0m\u001b[0;34m:\u001b[0m\u001b[0;34m]\u001b[0m\u001b[0;34m)\u001b[0m\u001b[0;34m\u001b[0m\u001b[0m\n\u001b[0;32m----> 7\u001b[0;31m \u001b[0mplt\u001b[0m\u001b[0;34m.\u001b[0m\u001b[0mhist\u001b[0m\u001b[0;34m(\u001b[0m\u001b[0mM\u001b[0m\u001b[0;34m.\u001b[0m\u001b[0mtrace\u001b[0m\u001b[0;34m(\u001b[0m\u001b[0;34m'x_A'\u001b[0m\u001b[0;34m)\u001b[0m\u001b[0;34m[\u001b[0m\u001b[0;34m:\u001b[0m\u001b[0;34m]\u001b[0m\u001b[0;34m)\u001b[0m\u001b[0;34m\u001b[0m\u001b[0m\n\u001b[0m",
      "\u001b[0;32m/Library/Frameworks/Python.framework/Versions/2.7/lib/python2.7/site-packages/pymc/Model.pyc\u001b[0m in \u001b[0;36mtrace\u001b[0;34m(self, name, chain)\u001b[0m\n\u001b[1;32m    838\u001b[0m         \"\"\"\n\u001b[1;32m    839\u001b[0m         \u001b[0;32mif\u001b[0m \u001b[0misinstance\u001b[0m\u001b[0;34m(\u001b[0m\u001b[0mname\u001b[0m\u001b[0;34m,\u001b[0m \u001b[0mstr\u001b[0m\u001b[0;34m)\u001b[0m\u001b[0;34m:\u001b[0m\u001b[0;34m\u001b[0m\u001b[0m\n\u001b[0;32m--> 840\u001b[0;31m             \u001b[0;32mreturn\u001b[0m \u001b[0mself\u001b[0m\u001b[0;34m.\u001b[0m\u001b[0mdb\u001b[0m\u001b[0;34m.\u001b[0m\u001b[0mtrace\u001b[0m\u001b[0;34m(\u001b[0m\u001b[0mname\u001b[0m\u001b[0;34m,\u001b[0m \u001b[0mchain\u001b[0m\u001b[0;34m)\u001b[0m\u001b[0;34m\u001b[0m\u001b[0m\n\u001b[0m\u001b[1;32m    841\u001b[0m         \u001b[0;32melif\u001b[0m \u001b[0misinstance\u001b[0m\u001b[0;34m(\u001b[0m\u001b[0mname\u001b[0m\u001b[0;34m,\u001b[0m \u001b[0mVariable\u001b[0m\u001b[0;34m)\u001b[0m\u001b[0;34m:\u001b[0m\u001b[0;34m\u001b[0m\u001b[0m\n\u001b[1;32m    842\u001b[0m             \u001b[0;32mreturn\u001b[0m \u001b[0mself\u001b[0m\u001b[0;34m.\u001b[0m\u001b[0mdb\u001b[0m\u001b[0;34m.\u001b[0m\u001b[0mtrace\u001b[0m\u001b[0;34m(\u001b[0m\u001b[0mname\u001b[0m\u001b[0;34m.\u001b[0m\u001b[0m__name__\u001b[0m\u001b[0;34m,\u001b[0m \u001b[0mchain\u001b[0m\u001b[0;34m)\u001b[0m\u001b[0;34m\u001b[0m\u001b[0m\n",
      "\u001b[0;32m/Library/Frameworks/Python.framework/Versions/2.7/lib/python2.7/site-packages/pymc/database/base.pyc\u001b[0m in \u001b[0;36mtrace\u001b[0;34m(self, name, chain)\u001b[0m\n\u001b[1;32m    371\u001b[0m           \u001b[0mthe\u001b[0m \u001b[0mith\u001b[0m \u001b[0mcall\u001b[0m \u001b[0mto\u001b[0m \u001b[0;34m`\u001b[0m\u001b[0msample\u001b[0m\u001b[0;34m`\u001b[0m\u001b[0;34m.\u001b[0m\u001b[0;34m\u001b[0m\u001b[0m\n\u001b[1;32m    372\u001b[0m         \"\"\"\n\u001b[0;32m--> 373\u001b[0;31m         \u001b[0mtrace\u001b[0m \u001b[0;34m=\u001b[0m \u001b[0mcopy\u001b[0m\u001b[0;34m.\u001b[0m\u001b[0mcopy\u001b[0m\u001b[0;34m(\u001b[0m\u001b[0mself\u001b[0m\u001b[0;34m.\u001b[0m\u001b[0m_traces\u001b[0m\u001b[0;34m[\u001b[0m\u001b[0mname\u001b[0m\u001b[0;34m]\u001b[0m\u001b[0;34m)\u001b[0m\u001b[0;34m\u001b[0m\u001b[0m\n\u001b[0m\u001b[1;32m    374\u001b[0m         \u001b[0mtrace\u001b[0m\u001b[0;34m.\u001b[0m\u001b[0m_chain\u001b[0m \u001b[0;34m=\u001b[0m \u001b[0mchain\u001b[0m\u001b[0;34m\u001b[0m\u001b[0m\n\u001b[1;32m    375\u001b[0m         \u001b[0;32mreturn\u001b[0m \u001b[0mtrace\u001b[0m\u001b[0;34m\u001b[0m\u001b[0m\n",
      "\u001b[0;31mKeyError\u001b[0m: 'x_A'"
     ]
    },
    {
     "data": {
      "image/png": "[encoded data removed]",
      "text/plain": [
       "<matplotlib.figure.Figure at 0x10a74f110>"
      ]
     },
     "metadata": {},
     "output_type": "display_data"
    }
   ],
   "source": [
    "M = pymc.MCMC(make_model(n, x_A, x_B, x_AB))\n",
    "\n",
    "\n",
    "M.sample(200)\n",
    "print M.value\n",
    "plt.hist(M.trace('x')[:])\n",
    "plt.hist(M.trace('x_A')[:])"
   ]
  },
  {
   "cell_type": "code",
   "execution_count": 3,
   "metadata": {
    "collapsed": false
   },
   "outputs": [
    {
     "name": "stdout",
     "output_type": "stream",
     "text": [
      " [-----------------100%-----------------] 50000 of 50000 complete in 2.8 sec"
     ]
    }
   ],
   "source": [
    "import numpy as np\n",
    "import pymc\n",
    "import scipy.optimize as opt\n",
    "import scipy.stats as stats\n",
    "\n",
    "sigma = 1.0\n",
    "tau = 1/ sigma**2\n",
    "\n",
    "sigma0 = 3.0\n",
    "tau0 = 1/sigma0**2\n",
    "\n",
    "mu = pymc.Normal(\"mu\", mu=0, tau=tau0)\n",
    "x = pymc.Normal(\"x\", mu=mu, tau=tau) # a bunch of samples for x\n",
    "mcmc = pymc.MCMC([mu, x])\n",
    "mcmc.sample(50000, 10000, 1) #1 is thinning. Results in autocorrelation , serial dependent\n",
    "# First set burn=0, thin = 1, examine traces"
   ]
  },
  {
   "cell_type": "code",
   "execution_count": 4,
   "metadata": {
    "collapsed": true
   },
   "outputs": [],
   "source": [
    "x_samples = mcmc.trace(\"x\")[:]\n",
    "mu_samples = mcmc.trace(\"mu\")[:]"
   ]
  },
  {
   "cell_type": "code",
   "execution_count": 8,
   "metadata": {
    "collapsed": false
   },
   "outputs": [
    {
     "name": "stderr",
     "output_type": "stream",
     "text": [
      "/Library/Frameworks/Python.framework/Versions/2.7/lib/python2.7/site-packages/matplotlib/figure.py:387: UserWarning: matplotlib is currently using a non-GUI backend, so cannot show the figure\n",
      "  \"matplotlib is currently using a non-GUI backend, \"\n"
     ]
    },
    {
     "data": {
      "image/png": "[encoded data removed]",
      "text/plain": [
       "<matplotlib.figure.Figure at 0x10aa4ec10>"
      ]
     },
     "metadata": {},
     "output_type": "display_data"
    }
   ],
   "source": [
    "import matplotlib.pyplot as plt\n",
    "%matplotlib inline\n",
    "fig = plt.figure(figsize=(5,5))\n",
    "axes = fig.add_subplot(111)\n",
    "axes.hist(x_samples, bins=50, normed=True, color=\"gray\");\n",
    "x_range = np.arange(-15, 15, 0.1)\n",
    "x_precision = tau * tau0 / (tau + tau0)\n",
    "axes.plot(x_range, stats.norm.pdf(x_range, 0, 1 / np.sqrt(x_precision)), color='k', linewidth=2);\n",
    "fig.show()"
   ]
  },
  {
   "cell_type": "code",
   "execution_count": 13,
   "metadata": {
    "collapsed": true
   },
   "outputs": [],
   "source": [
    "x_pdf = stats.kde.gaussian_kde(x_samples)\n",
    "\n",
    "def bayes_factor_sim(x_obs, x_pdf):\n",
    "    return x_pdf.evaluate(x_obs) / stats.norm.pdf(x_obs, 0, sigma)\n",
    "\n",
    "def bayes_factor_exact(x_obs):\n",
    "    return np.sqrt(tau0 / (tau + tau0)) * np.exp(0.5 * tau**2 / (tau + tau0) * x_obs**2)"
   ]
  },
  {
   "cell_type": "code",
   "execution_count": 14,
   "metadata": {
    "collapsed": false
   },
   "outputs": [
    {
     "data": {
      "image/png": "[encoded data removed]",
      "text/plain": [
       "<matplotlib.figure.Figure at 0x10b11fc90>"
      ]
     },
     "metadata": {},
     "output_type": "display_data"
    }
   ],
   "source": [
    "fig = plt.figure(figsize=(5,5))\n",
    "axes = fig.add_subplot(111)\n",
    "x_range = np.arange(0, 2, 0.1)\n",
    "axes.plot(x_range, bayes_factor_sim(x_range, x_pdf), color=\"red\", label=\"Simulated Bayes factor\", linewidth=2)\n",
    "axes.plot(x_range, bayes_factor_exact(x_range), color=\"blue\", label=\"Exact Bayes factor\")\n",
    "axes.legend(loc=2)\n",
    "fig.show()"
   ]
  },
  {
   "cell_type": "code",
   "execution_count": null,
   "metadata": {
    "collapsed": true
   },
   "outputs": [],
   "source": []
  }
 ],
 "metadata": {
  "kernelspec": {
   "display_name": "Python 2",
   "language": "python",
   "name": "python2"
  },
  "language_info": {
   "codemirror_mode": {
    "name": "ipython",
    "version": 2
   },
   "file_extension": ".py",
   "mimetype": "text/x-python",
   "name": "python",
   "nbconvert_exporter": "python",
   "pygments_lexer": "ipython2",
   "version": "2.7.10"
  }
 },
 "nbformat": 4,
 "nbformat_minor": 0
}

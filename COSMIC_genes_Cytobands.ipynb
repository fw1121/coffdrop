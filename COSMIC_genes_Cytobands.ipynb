{
 "cells": [
  {
   "cell_type": "code",
   "execution_count": 6,
   "metadata": {
    "collapsed": false
   },
   "outputs": [],
   "source": [
    "# load COSMIC genes\n",
    "import csv\n",
    "import bingenesbypairs as bgbp\n",
    "\n",
    "COSMIC_file= \"/Users/jlu96/conte/jlu/Analyses/CancerGeneAnalysis/COSMIC/COSMICGenes.txt\"\n",
    "COSMIC_cytoband_file = \"/Users/jlu96/conte/jlu/Analyses/CancerGeneAnalysis/COSMIC/COSMICGenes_cytobands.txt\"\n",
    "\n",
    "COSMIC_genes =set()\n",
    "\n",
    "with open(COSMIC_file, 'rU') as csvfile:\n",
    "    reader = csv.reader(csvfile, delimiter='\\t')\n",
    "    for row in reader:\n",
    "        COSMIC_genes.add(row[0])\n",
    "\n",
    "COSMIC_gene_dict = {}\n",
    "\n",
    "for gene in COSMIC_genes:\n",
    "    if gene in bgbp.get_segment_gene_info.geneToStat:\n",
    "        COSMIC_gene_dict[gene] = bgbp.get_segment_gene_info(gene)['Cytobands']\n",
    "        if not COSMIC_gene_dict[gene]:\n",
    "            COSMIC_gene_dict[gene] = ['cytoband_not_found']\n",
    "    else:\n",
    "        COSMIC_gene_dict[gene] = ['gene_pos_not_found']\n",
    "\n",
    "sorted_COSMIC_tuples = sorted(COSMIC_gene_dict.items(), key=lambda entry: (entry[1])\n",
    "\n",
    "with open(COSMIC_cytoband_file, 'w') as csvfile:\n",
    "    writer = csv.writer(csvfile, delimiter='\\t')\n",
    "    for COSMIC_tuple in sorted_COSMIC_tuples:\n",
    "        writer.writerow([COSMIC_tuple[0], \" \".join(COSMIC_tuple[1])])\n",
    "\n",
    "# write new file"
   ]
  }
 ],
 "metadata": {
  "kernelspec": {
   "display_name": "Python 2",
   "language": "python",
   "name": "python2"
  },
  "language_info": {
   "codemirror_mode": {
    "name": "ipython",
    "version": 2
   },
   "file_extension": ".py",
   "mimetype": "text/x-python",
   "name": "python",
   "nbconvert_exporter": "python",
   "pygments_lexer": "ipython2",
   "version": "2.7.10"
  }
 },
 "nbformat": 4,
 "nbformat_minor": 0
}

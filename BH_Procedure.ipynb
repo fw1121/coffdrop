{
 "cells": [
  {
   "cell_type": "markdown",
   "metadata": {},
   "source": [
    "\n",
    "\n",
    "\n",
    "\n"
   ]
  },
  {
   "cell_type": "code",
   "execution_count": 12,
   "metadata": {
    "collapsed": false
   },
   "outputs": [
    {
     "name": "stdout",
     "output_type": "stream",
     "text": [
      "[0.001, 0.008, 0.027, 0.039, 0.042, 0.06]\n",
      "3.81595817775\n",
      "[0.001]\n"
     ]
    }
   ],
   "source": [
    "import numpy as np\n",
    "\n",
    "def FDR(pvalue_list, Q=0.05, use_dependencies=False):\n",
    "    \"\"\"Benjamini-Hochberg\n",
    "\n",
    "    Given a list of \"discoveries\" d_list and list of their corresponding p-values, pvalue_list:\n",
    "    return those that control the FDR at the given level:\n",
    "    \"\"\"\n",
    "    pvalue_sorted = sorted(pvalue_list)\n",
    "    m = len(pvalue_sorted)\n",
    "    \n",
    "    base_threshold = Q * 1.0 / m\n",
    "    \n",
    "    if use_dependencies:\n",
    "        # change the base threshold to Q * 1.0/m * sum_i=1^m 1/i\n",
    "        whole_sum = np.sum(1.0/ np.arange(1, m + 1))\n",
    "        base_threshold /= whole_sum\n",
    "        print whole_sum\n",
    "    \n",
    "\n",
    "    # i will be the cutoff index for discoveries\n",
    "    for i in range(len(pvalue_sorted)):\n",
    "        threshold = (i + 1) * base_threshold\n",
    "        if pvalue_sorted[i] > threshold:\n",
    "            pvalue_discovered = pvalue_sorted[:i]\n",
    "            return pvalue_discovered\n",
    "    \n",
    "    return pvalue_sorted\n",
    "    \n",
    "    # in case you can reject them all\n",
    "    \n",
    "Pvalues = [0.001, 0.008, 0.027, 0.039, 0.042, 0.06, 0.074, 0.205, 0.212, 0.216, 0.222, 0.251, 0.269, 0.275, 0.34,\n",
    "          0.341, 0.569, 0.594, 0.696, 0.762, 0.94, 0.942, 0.975, 0.986, 1.0]\n",
    "\n",
    "reject = FDR(Pvalues, Q=0.25)\n",
    "print reject\n",
    "\n",
    "reject = FDR(Pvalues, Q=0.25, use_dependencies=True)    \n",
    "print reject"
   ]
  },
  {
   "cell_type": "code",
   "execution_count": 18,
   "metadata": {
    "collapsed": false
   },
   "outputs": [
    {
     "name": "stdout",
     "output_type": "stream",
     "text": [
      "0.001 0.01\n",
      "0.008 0.02\n",
      "0.027 0.03\n",
      "0.039 0.04\n",
      "0.042 0.05\n",
      "0.06 0.06\n",
      "0.074 0.07\n",
      "('0.001', '0.008', '0.027', '0.039', '0.042', '0.06') (0.001, 0.008, 0.027, 0.039, 0.042, 0.06)\n",
      "3.81595817775\n",
      "0.001 0.0026205737941\n",
      "0.008 0.0052411475882\n",
      "(('0.001',), (0.001,))\n"
     ]
    }
   ],
   "source": [
    "import numpy as np\n",
    "\n",
    "def FDR(results, pvalue_list, Q=0.05, use_dependencies=False):\n",
    "    \"\"\"Benjamini-Hochberg\n",
    "\n",
    "    Given a list of \"discoveries\" d_list and list of their corresponding p-values, pvalue_list:\n",
    "    return those that control the FDR at the given level Q\n",
    "    \n",
    "    returns: results, pvalues\n",
    "    \"\"\"\n",
    "    if len(results) != len(pvalue_list):\n",
    "        raise ValueError(\"Results and p-values must have same length\")\n",
    "    \n",
    "    result_pvalue_sorted = sorted(zip(results, pvalue_list), key=lambda entry: entry[1])\n",
    "    m = len(pvalue_list)\n",
    "    \n",
    "    base_threshold = Q * 1.0 / m\n",
    "    \n",
    "    if use_dependencies:\n",
    "        # change the base threshold to Q * 1.0/m * sum_i=1^m 1/i\n",
    "        whole_sum = np.sum(1.0/ np.arange(1, m + 1))\n",
    "        base_threshold /= whole_sum\n",
    "        print whole_sum\n",
    "    \n",
    "\n",
    "    # i will be the cutoff index for discoveries\n",
    "    for i in range(len(result_pvalue_sorted)):\n",
    "        result, pvalue = result_pvalue_sorted[i]\n",
    "        threshold = (i + 1) * base_threshold\n",
    "        print pvalue, threshold\n",
    "        if pvalue > threshold:\n",
    "            discovered = result_pvalue_sorted[:i]\n",
    "            discovered_results, discovered_pvalues = zip(*discovered)[0], zip(*discovered)[1]\n",
    "            return discovered_results, discovered_pvalues\n",
    "    \n",
    "    return results, pvalue_list\n",
    "    \n",
    "    # in case you can reject them all\n",
    "    \n",
    "Pvalues = [0.001, 0.008, 0.027, 0.039, 0.042, 0.06, 0.074, 0.205, 0.212, 0.216, 0.222, 0.251, 0.269, 0.275, 0.34,\n",
    "          0.341, 0.569, 0.594, 0.696, 0.762, 0.94, 0.942, 0.975, 0.986, 1.0]\n",
    "results = [str(p) for p in Pvalues]\n",
    "\n",
    "reject_r, p_r = FDR(results, Pvalues, Q=0.25)\n",
    "print reject_r, p_r\n",
    "\n",
    "reject = FDR(results, Pvalues, Q=0.25, use_dependencies=True)    \n",
    "print reject"
   ]
  },
  {
   "cell_type": "code",
   "execution_count": null,
   "metadata": {
    "collapsed": true
   },
   "outputs": [],
   "source": []
  }
 ],
 "metadata": {
  "kernelspec": {
   "display_name": "Python 2",
   "language": "python",
   "name": "python2"
  },
  "language_info": {
   "codemirror_mode": {
    "name": "ipython",
    "version": 2
   },
   "file_extension": ".py",
   "mimetype": "text/x-python",
   "name": "python",
   "nbconvert_exporter": "python",
   "pygments_lexer": "ipython2",
   "version": "2.7.10"
  }
 },
 "nbformat": 4,
 "nbformat_minor": 0
}

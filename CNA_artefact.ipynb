{
 "cells": [
  {
   "cell_type": "code",
   "execution_count": null,
   "metadata": {
    "collapsed": true
   },
   "outputs": [],
   "source": [
    "m, n, genes, patients, geneToCases, patientToGenes = mex.load_mutation_data(\"/Users/jlu96/maf/new/BRCA_wustl/BRCA_wustl-cna-gl.m2\",\n",
    "                                                                           patientFile=\"/Users/jlu96/maf/new/BRCA_wustl/shared_patients.plst\")"
   ]
  },
  {
   "cell_type": "code",
   "execution_count": 22,
   "metadata": {
    "collapsed": false
   },
   "outputs": [
    {
     "name": "stdout",
     "output_type": "stream",
     "text": [
      "Total patients  963\n",
      "Gains:\n",
      "FAM230C 126 LINC00349 113\n",
      "213 26\n",
      "Losses:\n",
      "FAM230C 410 LINC00349 386\n",
      "609 187\n"
     ]
    },
    {
     "data": {
      "text/plain": [
       "0"
      ]
     },
     "execution_count": 22,
     "metadata": {},
     "output_type": "execute_result"
    }
   ],
   "source": [
    "fg = geneToCases[\"FAM230Cgain\"]\n",
    "lg = geneToCases[\"LINC00349gain\"]\n",
    "fl = geneToCases[\"FAM230Closs\"]\n",
    "ll = geneToCases[\"LINC00349loss\"]\n",
    "\n",
    "print \"Total patients \", n\n",
    "print \"Gains:\"\n",
    "print \"FAM230C\", len(fg), \"LINC00349\", len(lg)\n",
    "print len(fg.union(lg)), len(fg.intersection(lg))\n",
    "\n",
    "print \"Losses:\"\n",
    "print \"FAM230C\", len(fl), \"LINC00349\", len(ll)\n",
    "print len(fl.union(ll)), len(fl.intersection(ll))\n",
    "\n",
    "import os\n",
    "os.system(\"say 'done'\")"
   ]
  },
  {
   "cell_type": "code",
   "execution_count": 49,
   "metadata": {
    "collapsed": false
   },
   "outputs": [
    {
     "name": "stdout",
     "output_type": "stream",
     "text": [
      "Extra entry for  Y_RNA\n"
     ]
    },
    {
     "ename": "TypeError",
     "evalue": "isinstance() arg 2 must be a class, type, or tuple of classes and types",
     "output_type": "error",
     "traceback": [
      "\u001b[0;31m---------------------------------------------------------------------------\u001b[0m",
      "\u001b[0;31mTypeError\u001b[0m                                 Traceback (most recent call last)",
      "\u001b[0;32m<ipython-input-49-3ed0003011e1>\u001b[0m in \u001b[0;36m<module>\u001b[0;34m()\u001b[0m\n\u001b[1;32m      1\u001b[0m \u001b[0;32mimport\u001b[0m \u001b[0mbingenesbypairs\u001b[0m \u001b[0;32mas\u001b[0m \u001b[0mbgbp\u001b[0m\u001b[0;34m\u001b[0m\u001b[0m\n\u001b[1;32m      2\u001b[0m \u001b[0mreload\u001b[0m\u001b[0;34m(\u001b[0m\u001b[0mbgbp\u001b[0m\u001b[0;34m)\u001b[0m\u001b[0;34m\u001b[0m\u001b[0m\n\u001b[0;32m----> 3\u001b[0;31m \u001b[0mgeneDict\u001b[0m\u001b[0;34m,\u001b[0m \u001b[0mextra_genes\u001b[0m \u001b[0;34m=\u001b[0m \u001b[0mbgbp\u001b[0m\u001b[0;34m.\u001b[0m\u001b[0mload_gene_positions\u001b[0m\u001b[0;34m(\u001b[0m\u001b[0minclude_extras\u001b[0m\u001b[0;34m=\u001b[0m\u001b[0mTrue\u001b[0m\u001b[0;34m)\u001b[0m\u001b[0;34m\u001b[0m\u001b[0m\n\u001b[0m",
      "\u001b[0;32m/Users/jlu96/conte/jlu/mutex/bingenesbypairs.pyc\u001b[0m in \u001b[0;36mload_gene_positions\u001b[0;34m(filename, genecol, chromcol, extra_genecols, startcol, endcol, delimiter, chromosomes, include_extras)\u001b[0m\n\u001b[1;32m    411\u001b[0m                 \u001b[0;32melif\u001b[0m \u001b[0minclude_extras\u001b[0m\u001b[0;34m:\u001b[0m\u001b[0;34m\u001b[0m\u001b[0m\n\u001b[1;32m    412\u001b[0m                     \u001b[0;32mprint\u001b[0m \u001b[0;34m\"Extra entry for \"\u001b[0m\u001b[0;34m,\u001b[0m \u001b[0mgene\u001b[0m\u001b[0;34m\u001b[0m\u001b[0m\n\u001b[0;32m--> 413\u001b[0;31m                     \u001b[0;32mif\u001b[0m \u001b[0;32mnot\u001b[0m \u001b[0misinstance\u001b[0m\u001b[0;34m(\u001b[0m\u001b[0mgeneToStat\u001b[0m\u001b[0;34m[\u001b[0m\u001b[0mgene\u001b[0m\u001b[0;34m]\u001b[0m\u001b[0;34m[\u001b[0m\u001b[0;34m'Chromosome'\u001b[0m\u001b[0;34m]\u001b[0m\u001b[0;34m,\u001b[0m \u001b[0;34m'tuple'\u001b[0m\u001b[0;34m)\u001b[0m\u001b[0;34m:\u001b[0m\u001b[0;34m\u001b[0m\u001b[0m\n\u001b[0m\u001b[1;32m    414\u001b[0m                         \u001b[0mgeneToStat\u001b[0m\u001b[0;34m[\u001b[0m\u001b[0mgene\u001b[0m\u001b[0;34m]\u001b[0m\u001b[0;34m[\u001b[0m\u001b[0;34m'Chromosome'\u001b[0m\u001b[0;34m]\u001b[0m \u001b[0;34m=\u001b[0m \u001b[0;34m(\u001b[0m\u001b[0mgeneToStat\u001b[0m\u001b[0;34m[\u001b[0m\u001b[0mgene\u001b[0m\u001b[0;34m]\u001b[0m\u001b[0;34m[\u001b[0m\u001b[0;34m'Chromosome'\u001b[0m\u001b[0;34m]\u001b[0m\u001b[0;34m,\u001b[0m\u001b[0;34m)\u001b[0m\u001b[0;34m\u001b[0m\u001b[0m\n\u001b[1;32m    415\u001b[0m                         \u001b[0mgeneToStat\u001b[0m\u001b[0;34m[\u001b[0m\u001b[0mgene\u001b[0m\u001b[0;34m]\u001b[0m\u001b[0;34m[\u001b[0m\u001b[0;34m'Start'\u001b[0m\u001b[0;34m]\u001b[0m \u001b[0;34m=\u001b[0m \u001b[0;34m(\u001b[0m\u001b[0mgeneToStat\u001b[0m\u001b[0;34m[\u001b[0m\u001b[0mgene\u001b[0m\u001b[0;34m]\u001b[0m\u001b[0;34m[\u001b[0m\u001b[0;34m'Start'\u001b[0m\u001b[0;34m]\u001b[0m\u001b[0;34m,\u001b[0m\u001b[0;34m)\u001b[0m\u001b[0;34m\u001b[0m\u001b[0m\n",
      "\u001b[0;31mTypeError\u001b[0m: isinstance() arg 2 must be a class, type, or tuple of classes and types"
     ]
    }
   ],
   "source": [
    "import bingenesbypairs as bgbp\n",
    "reload(bgbp)\n",
    "geneDict, extra_genes = bgbp.load_gene_positions(include_extras=True)"
   ]
  },
  {
   "cell_type": "code",
   "execution_count": 35,
   "metadata": {
    "collapsed": false
   },
   "outputs": [],
   "source": [
    "import csv\n",
    "extra_list = [gene for gene in extra_genes if gene[-4:] == 'loss' and gene in genes]\n",
    "with open(\"extra_genes.txt\", 'w') as csvfile:\n",
    "    writer = csv.writer(csvfile)\n",
    "    for gene in extra_list:\n",
    "        writer.writerow([gene])"
   ]
  },
  {
   "cell_type": "code",
   "execution_count": 36,
   "metadata": {
    "collapsed": false
   },
   "outputs": [
    {
     "name": "stdout",
     "output_type": "stream",
     "text": [
      "['SNORD22loss', 'RNASE11loss', 'SMYD3loss', 'OR10X1loss', 'PIK3R2loss', 'SNORD38Bloss', 'SNURFloss', 'PI4K2Bloss', 'OR5D13loss', 'MTHFSloss', 'KIAA0391loss', 'TREX1loss', 'OR12D2loss', 'PCDH20loss', 'OR4X2loss', 'RNU11loss', 'OR52R1loss', 'OR2L8loss', 'TRPV1loss', 'HAR1Aloss', 'OR1S1loss', 'RPP14loss', 'OR2F1loss', 'RMRPloss', 'ICOSLGloss', 'OPN1MWloss', 'BMS1P4loss', 'RGS5loss', 'OR8B4loss', 'FKSG62loss', 'C17orf100loss', 'OR8K3loss', 'SYT15loss', 'SNORD91Bloss', 'CBSloss', 'FBF1loss', 'OR4X1loss', 'PKD1P6loss', 'ELFN2loss', 'MIR1539loss', 'C12orf79loss', 'UGT2A1loss', 'SNORA44loss', 'OR51F1loss', 'SNORD3Dloss', 'NDUFA7loss', 'TAF9loss', 'CLN3loss', 'SERPINA3loss', 'PRAMEF11loss', 'OR2S2loss', 'OR2AG1loss', 'MATR3loss', 'MALAT1loss', 'MRPS17loss', 'ZNF709loss', 'GABARAPL3loss', 'CYB561D2loss', 'OR51G1loss', 'OR2T11loss', 'TARDBPloss', 'SNORD3Aloss', 'NOTCH2NLloss', 'RAPGEF6loss', 'EGOTloss', 'IL12RB2loss', 'SNORD3Closs', 'OR4C16loss', 'OR5AR1loss', 'OR51B2loss', 'CRIP1loss', 'CRYAAloss', 'RPL41loss', 'RPPH1loss', 'SPATA13loss', 'OR10A6loss', 'OR1B1loss', 'CFHR2loss', 'FAM230Aloss', 'KLK9loss', 'C2orf15loss', 'PAK6loss', 'KCNQ1DNloss', 'LINC00864loss', 'ZNF286Aloss', 'ZFP41loss', 'SNORD30loss', 'UCA1loss', 'RNY4P13loss', 'MAN2C1loss', 'ZNF670loss', 'ECSCRloss', 'FAM95B1loss', 'TIMM10Bloss', 'PDXDC2Ploss', 'HULCloss', 'TUBB3loss', 'SCARNA10loss', 'TP53TG3loss', 'SIGLEC5loss', 'SMIM11loss', 'MEIOBloss', 'IDSloss', 'ZNF747loss', 'CELF6loss', 'PCGEM1loss', 'MFRPloss', 'TMEM239loss', 'UQCR11loss', 'SOGA3loss', 'POLR2J2loss', 'RNU12loss', 'OR7E47Ploss', 'PSMA2loss', 'OR4M2loss', 'SCARNA2loss', 'POLR2J4loss', 'OR5R1loss', 'TMSB15Bloss', 'KRT222loss', 'GHRLOSloss', 'PSMA1loss', 'CCDC7loss', 'SNORD91Aloss', 'AFF2loss', 'SP110loss', 'OR8D2loss', 'KCNMB2loss', 'OR52B4loss', 'SNORA59Bloss', 'OR10C1loss', 'OR5H6loss', 'OR5L1loss', 'SNX29P2loss', 'C6orf165loss', 'U2AF1loss', 'RN7SL2loss', 'OR6Q1loss', 'IER3IP1loss', 'PAGR1loss', 'RN7SL1loss']\n",
      "141\n"
     ]
    }
   ],
   "source": [
    "print extra_list\n",
    "print len(extra_list)"
   ]
  },
  {
   "cell_type": "code",
   "execution_count": 37,
   "metadata": {
    "collapsed": false
   },
   "outputs": [
    {
     "ename": "TypeError",
     "evalue": "'int' object is not iterable",
     "output_type": "error",
     "traceback": [
      "\u001b[0;31m---------------------------------------------------------------------------\u001b[0m",
      "\u001b[0;31mTypeError\u001b[0m                                 Traceback (most recent call last)",
      "\u001b[0;32m<ipython-input-37-d0803f3366a1>\u001b[0m in \u001b[0;36m<module>\u001b[0;34m()\u001b[0m\n\u001b[0;32m----> 1\u001b[0;31m \u001b[0mtuple\u001b[0m\u001b[0;34m(\u001b[0m\u001b[0;36m3\u001b[0m\u001b[0;34m)\u001b[0m\u001b[0;34m\u001b[0m\u001b[0m\n\u001b[0m",
      "\u001b[0;31mTypeError\u001b[0m: 'int' object is not iterable"
     ]
    }
   ],
   "source": [
    "tuple(3)"
   ]
  },
  {
   "cell_type": "code",
   "execution_count": 40,
   "metadata": {
    "collapsed": false
   },
   "outputs": [
    {
     "data": {
      "text/plain": [
       "(3,)"
      ]
     },
     "execution_count": 40,
     "metadata": {},
     "output_type": "execute_result"
    }
   ],
   "source": [
    "tuple(tuple((3,)))"
   ]
  },
  {
   "cell_type": "code",
   "execution_count": 45,
   "metadata": {
    "collapsed": false
   },
   "outputs": [
    {
     "data": {
      "text/plain": [
       "(3, 4, 5)"
      ]
     },
     "execution_count": 45,
     "metadata": {},
     "output_type": "execute_result"
    }
   ],
   "source": [
    "tuple((3,4)) + (5,)\n"
   ]
  },
  {
   "cell_type": "code",
   "execution_count": 46,
   "metadata": {
    "collapsed": true
   },
   "outputs": [],
   "source": [
    "b = {3:(3,4)}\n",
    "b[3] += (4,)"
   ]
  },
  {
   "cell_type": "code",
   "execution_count": 47,
   "metadata": {
    "collapsed": false
   },
   "outputs": [
    {
     "data": {
      "text/plain": [
       "(3, 4, 4)"
      ]
     },
     "execution_count": 47,
     "metadata": {},
     "output_type": "execute_result"
    }
   ],
   "source": [
    "b[3]"
   ]
  },
  {
   "cell_type": "code",
   "execution_count": 50,
   "metadata": {
    "collapsed": false
   },
   "outputs": [
    {
     "data": {
      "text/plain": [
       "True"
      ]
     },
     "execution_count": 50,
     "metadata": {},
     "output_type": "execute_result"
    }
   ],
   "source": [
    "isinstance(3, int)"
   ]
  },
  {
   "cell_type": "code",
   "execution_count": null,
   "metadata": {
    "collapsed": true
   },
   "outputs": [],
   "source": []
  }
 ],
 "metadata": {
  "kernelspec": {
   "display_name": "Python 2",
   "language": "python",
   "name": "python2"
  },
  "language_info": {
   "codemirror_mode": {
    "name": "ipython",
    "version": 2
   },
   "file_extension": ".py",
   "mimetype": "text/x-python",
   "name": "python",
   "nbconvert_exporter": "python",
   "pygments_lexer": "ipython2",
   "version": "2.7.10"
  }
 },
 "nbformat": 4,
 "nbformat_minor": 0
}
